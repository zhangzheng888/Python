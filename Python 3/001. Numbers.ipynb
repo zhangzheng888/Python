{
 "cells": [
  {
   "cell_type": "markdown",
   "metadata": {},
   "source": [
    "# Data Type: Numbers\n",
    "\n",
    "Python supports various \"types\" of numbers: integers, floating point numbers and complex numbers. They are defined as int, float and complex class in Python.\n",
    "\n",
    "Integers and floating points are separated by the presence or absence of a decimal point. 5 is integer whereas 5.0 is a floating point number.\n",
    "\n",
    "For example: \n",
    "2 and -2 are both of integer (```int```) type.\n",
    "\n",
    "Complex numbers are written in this form: ```x + yj```, where ```x``` is the real part and ```y``` is the imaginary part.\n",
    "\n",
    "Python offers functions which can help determine the type of numerical value:\n",
    "```type()``` function to know which class a variable or a value belongs to\n",
    "```isinstance()``` function to check if it belongs to a particular class."
   ]
  },
  {
   "cell_type": "markdown",
   "metadata": {},
   "source": [
    "<table>\n",
    "<tr>\n",
    "    <th>Examples</th> \n",
    "    <th>Number \"Type\"</th>\n",
    "</tr>\n",
    "\n",
    "<tr>\n",
    "    <td>2</td>\n",
    "    <td>Integer</td> \n",
    "</tr>\n",
    "<tr>\n",
    "    <td>-5</td>\n",
    "    <td>Integer</td> \n",
    "</tr>\n",
    "<tr>\n",
    "    <td>7000</td>\n",
    "    <td>Integer</td> \n",
    "</tr>\n",
    "\n",
    "<tr>\n",
    "    <td>1.2,-0.5,2e2,3E2</td> \n",
    "    <td>Floating-point numbers</td> \n",
    "</tr>\n",
    " </table>"
   ]
  },
  {
   "cell_type": "markdown",
   "metadata": {},
   "source": [
    "While integers can be of any length, a floating point number is accurate only up to 15 decimal places (the 16th place is inaccurate).\n",
    "\n",
    "Numbers we deal with everyday are decimal (base 10) number system. But computer programmers (generally embedded programmer) need to work with binary (base 2), hexadecimal (base 16) and octal (base 8) number systems."
   ]
  },
  {
   "cell_type": "code",
   "execution_count": 4,
   "metadata": {},
   "outputs": [
    {
     "name": "stdout",
     "output_type": "stream",
     "text": [
      "<class 'int'>\n"
     ]
    }
   ],
   "source": [
    "# Data Type Integer\n",
    "number = 8\n",
    "\n",
    "# Output: <class 'int'>\n",
    "print(type(number))"
   ]
  },
  {
   "cell_type": "code",
   "execution_count": 5,
   "metadata": {},
   "outputs": [
    {
     "name": "stdout",
     "output_type": "stream",
     "text": [
      "<class 'float'>\n"
     ]
    }
   ],
   "source": [
    "# Data Type Float\n",
    "number = 8.0\n",
    "\n",
    "# Output: <class 'float'>\n",
    "print(type(number))"
   ]
  },
  {
   "cell_type": "code",
   "execution_count": 6,
   "metadata": {},
   "outputs": [
    {
     "name": "stdout",
     "output_type": "stream",
     "text": [
      "(8+3j)\n",
      "True\n"
     ]
    }
   ],
   "source": [
    "# Data Type Complex\n",
    "complex_number = 5 + 3j\n",
    "\n",
    "# Output: (8+3j)\n",
    "print(complex_number + 3)\n",
    "\n",
    "# Output: True\n",
    "print(isinstance(complex_number, complex))"
   ]
  }
 ],
 "metadata": {
  "kernelspec": {
   "display_name": "Python 3",
   "language": "python",
   "name": "python3"
  },
  "language_info": {
   "codemirror_mode": {
    "name": "ipython",
    "version": 3
   },
   "file_extension": ".py",
   "mimetype": "text/x-python",
   "name": "python",
   "nbconvert_exporter": "python",
   "pygments_lexer": "ipython3",
   "version": "3.7.4"
  },
  "widgets": {
   "application/vnd.jupyter.widget-state+json": {
    "state": {},
    "version_major": 2,
    "version_minor": 0
   }
  }
 },
 "nbformat": 4,
 "nbformat_minor": 4
}
